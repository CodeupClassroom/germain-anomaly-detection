{
 "cells": [
  {
   "cell_type": "code",
   "execution_count": 1,
   "id": "672e2fe1-bf55-4171-a0a7-68e98bcb426e",
   "metadata": {},
   "outputs": [
    {
     "data": {
      "text/html": [
       "<div>\n",
       "<style scoped>\n",
       "    .dataframe tbody tr th:only-of-type {\n",
       "        vertical-align: middle;\n",
       "    }\n",
       "\n",
       "    .dataframe tbody tr th {\n",
       "        vertical-align: top;\n",
       "    }\n",
       "\n",
       "    .dataframe thead th {\n",
       "        text-align: right;\n",
       "    }\n",
       "</style>\n",
       "<table border=\"1\" class=\"dataframe\">\n",
       "  <thead>\n",
       "    <tr style=\"text-align: right;\">\n",
       "      <th></th>\n",
       "      <th>ip</th>\n",
       "      <th>request_method</th>\n",
       "      <th>request_path</th>\n",
       "      <th>http_version</th>\n",
       "      <th>status_code</th>\n",
       "      <th>size</th>\n",
       "      <th>user_agent</th>\n",
       "      <th>size_mb</th>\n",
       "    </tr>\n",
       "    <tr>\n",
       "      <th>timestamp</th>\n",
       "      <th></th>\n",
       "      <th></th>\n",
       "      <th></th>\n",
       "      <th></th>\n",
       "      <th></th>\n",
       "      <th></th>\n",
       "      <th></th>\n",
       "      <th></th>\n",
       "    </tr>\n",
       "  </thead>\n",
       "  <tbody>\n",
       "    <tr>\n",
       "      <th>2019-04-16 19:34:42+00:00</th>\n",
       "      <td>97.105.19.58</td>\n",
       "      <td>GET</td>\n",
       "      <td>/api/v1/sales?page=81</td>\n",
       "      <td>HTTP/1.1</td>\n",
       "      <td>200</td>\n",
       "      <td>512495</td>\n",
       "      <td>python-requests/2.21.0</td>\n",
       "      <td>0.488753</td>\n",
       "    </tr>\n",
       "    <tr>\n",
       "      <th>2019-04-16 19:34:42+00:00</th>\n",
       "      <td>97.105.19.58</td>\n",
       "      <td>GET</td>\n",
       "      <td>/api/v1/items</td>\n",
       "      <td>HTTP/1.1</td>\n",
       "      <td>200</td>\n",
       "      <td>3561</td>\n",
       "      <td>python-requests/2.21.0</td>\n",
       "      <td>0.003396</td>\n",
       "    </tr>\n",
       "    <tr>\n",
       "      <th>2019-04-16 19:34:44+00:00</th>\n",
       "      <td>97.105.19.58</td>\n",
       "      <td>GET</td>\n",
       "      <td>/api/v1/sales?page=82</td>\n",
       "      <td>HTTP/1.1</td>\n",
       "      <td>200</td>\n",
       "      <td>510103</td>\n",
       "      <td>python-requests/2.21.0</td>\n",
       "      <td>0.486472</td>\n",
       "    </tr>\n",
       "    <tr>\n",
       "      <th>2019-04-16 19:34:46+00:00</th>\n",
       "      <td>97.105.19.58</td>\n",
       "      <td>GET</td>\n",
       "      <td>/api/v1/sales?page=83</td>\n",
       "      <td>HTTP/1.1</td>\n",
       "      <td>200</td>\n",
       "      <td>510003</td>\n",
       "      <td>python-requests/2.21.0</td>\n",
       "      <td>0.486377</td>\n",
       "    </tr>\n",
       "    <tr>\n",
       "      <th>2019-04-16 19:34:48+00:00</th>\n",
       "      <td>97.105.19.58</td>\n",
       "      <td>GET</td>\n",
       "      <td>/api/v1/sales?page=84</td>\n",
       "      <td>HTTP/1.1</td>\n",
       "      <td>200</td>\n",
       "      <td>511963</td>\n",
       "      <td>python-requests/2.21.0</td>\n",
       "      <td>0.488246</td>\n",
       "    </tr>\n",
       "  </tbody>\n",
       "</table>\n",
       "</div>"
      ],
      "text/plain": [
       "                                     ip request_method           request_path  \\\n",
       "timestamp                                                                       \n",
       "2019-04-16 19:34:42+00:00  97.105.19.58            GET  /api/v1/sales?page=81   \n",
       "2019-04-16 19:34:42+00:00  97.105.19.58            GET          /api/v1/items   \n",
       "2019-04-16 19:34:44+00:00  97.105.19.58            GET  /api/v1/sales?page=82   \n",
       "2019-04-16 19:34:46+00:00  97.105.19.58            GET  /api/v1/sales?page=83   \n",
       "2019-04-16 19:34:48+00:00  97.105.19.58            GET  /api/v1/sales?page=84   \n",
       "\n",
       "                          http_version status_code    size  \\\n",
       "timestamp                                                    \n",
       "2019-04-16 19:34:42+00:00     HTTP/1.1         200  512495   \n",
       "2019-04-16 19:34:42+00:00     HTTP/1.1         200    3561   \n",
       "2019-04-16 19:34:44+00:00     HTTP/1.1         200  510103   \n",
       "2019-04-16 19:34:46+00:00     HTTP/1.1         200  510003   \n",
       "2019-04-16 19:34:48+00:00     HTTP/1.1         200  511963   \n",
       "\n",
       "                                       user_agent   size_mb  \n",
       "timestamp                                                    \n",
       "2019-04-16 19:34:42+00:00  python-requests/2.21.0  0.488753  \n",
       "2019-04-16 19:34:42+00:00  python-requests/2.21.0  0.003396  \n",
       "2019-04-16 19:34:44+00:00  python-requests/2.21.0  0.486472  \n",
       "2019-04-16 19:34:46+00:00  python-requests/2.21.0  0.486377  \n",
       "2019-04-16 19:34:48+00:00  python-requests/2.21.0  0.488246  "
      ]
     },
     "execution_count": 1,
     "metadata": {},
     "output_type": "execute_result"
    }
   ],
   "source": [
    "import matplotlib.pyplot as plt\n",
    "import numpy as np\n",
    "import pandas as pd\n",
    "import seaborn as sns\n",
    "from sklearn import metrics\n",
    "import env\n",
    "\n",
    "# function to deal with parsing one entry in our log data\n",
    "def parse_log_entry(entry):\n",
    "    parts = entry.split()\n",
    "    output = {}\n",
    "    output['ip'] = parts[0]\n",
    "    output['timestamp'] = parts[3][1:].replace(':', ' ', 1)\n",
    "    output['request_method'] = parts[5][1:]\n",
    "    output['request_path'] = parts[6]\n",
    "    output['http_version'] = parts[7][:-1]\n",
    "    output['status_code'] = parts[8]\n",
    "    output['size'] = int(parts[9])\n",
    "    output['user_agent'] = ' '.join(parts[11:]).replace('\"', '')\n",
    "    return pd.Series(output)\n",
    "\n",
    "url = f'mysql+pymysql://{env.user}:{env.password}@{env.host}/logs'\n",
    "df = pd.read_sql('SELECT * FROM api_access', url)\n",
    "df = df.entry.apply(parse_log_entry)\n",
    "\n",
    "\n",
    "# Synthetic data\n",
    "new = pd.DataFrame([\n",
    "    [\"95.31.18.119\", \"21/Apr/2019 10:02:41\", \"GET\", \"/api/v1/items/\", \"HTTP/1.1\", '200', 1153005, \"python-requests/2.21.0\"],\n",
    "    [\"95.31.16.121\", \"17/Apr/2019 19:36:41\", \"GET\", \"/api/v1/sales?page=79/\", \"HTTP/1.1\", '301', 1005, \"python-requests/2.21.0\"],\n",
    "    [\"97.105.15.120\", \"18/Apr/2019 19:42:41\", \"GET\", \"/api/v1/sales?page=79/\", \"HTTP/1.1\", '301', 2560, \"python-requests/2.21.0\"],\n",
    "    [\"97.105.19.58\", \"19/Apr/2019 19:42:41\", \"GET\", \"/api/v1/sales?page=79/\", \"HTTP/1.1\", '200', 2056327, \"python-requests/2.21.0\"],\n",
    "], columns=df.columns)\n",
    "\n",
    "df = df.append(new)\n",
    "\n",
    "df['size_mb'] = df['size'] / 1024 / 1024\n",
    "df.timestamp = pd.to_datetime(df.timestamp, utc=True)\n",
    "df = df.set_index('timestamp')\n",
    "df.head()"
   ]
  },
  {
   "cell_type": "code",
   "execution_count": 2,
   "id": "5ea9f892-50fd-4e2e-a527-6997955724a6",
   "metadata": {},
   "outputs": [],
   "source": [
    "request_path_and_params = df.request_path.str.split('?', expand=True)\n",
    "request_path_and_params.columns = ['request_path', 'request_params']\n",
    "df = df.drop(columns='request_path').join(request_path_and_params)"
   ]
  },
  {
   "cell_type": "code",
   "execution_count": 3,
   "id": "c89d8b72-4829-4516-a146-98e218dca136",
   "metadata": {},
   "outputs": [
    {
     "data": {
      "text/plain": [
       "<AxesSubplot:title={'center':'Top 10 Most Commonly Requested Pages'}>"
      ]
     },
     "execution_count": 3,
     "metadata": {},
     "output_type": "execute_result"
    },
    {
     "data": {
      "image/png": "[encoded data removed]",
      "text/plain": [
       "<Figure size 432x288 with 1 Axes>"
      ]
     },
     "metadata": {
      "needs_background": "light"
     },
     "output_type": "display_data"
    }
   ],
   "source": [
    "df.request_params.value_counts().head(10).plot.barh(\n",
    "    title='Top 10 Most Commonly Requested Pages',\n",
    ")"
   ]
  },
  {
   "cell_type": "markdown",
   "id": "513fce1a-230e-472a-bec4-42a3ef425f05",
   "metadata": {},
   "source": [
    "Interesting that page 2 is the most requested, and page 1 is the #3. Also page 183 makes the top 10."
   ]
  },
  {
   "cell_type": "code",
   "execution_count": 4,
   "id": "44a714d6-8e99-4d99-bcca-c199b0c6a73c",
   "metadata": {},
   "outputs": [],
   "source": [
    "df = df.tz_convert('America/Chicago')\n",
    "df['hour'] = df.index.hour\n",
    "df['weekday'] = df.index.day_name()"
   ]
  },
  {
   "cell_type": "code",
   "execution_count": 5,
   "id": "c6c0648f-2f23-420e-88e0-5568d4616115",
   "metadata": {},
   "outputs": [
    {
     "data": {
      "text/plain": [
       "<AxesSubplot:title={'center':'Which hours are the most active?'}>"
      ]
     },
     "execution_count": 5,
     "metadata": {},
     "output_type": "execute_result"
    },
    {
     "data": {
      "image/png": "[encoded data removed]",
      "text/plain": [
       "<Figure size 432x288 with 1 Axes>"
      ]
     },
     "metadata": {
      "needs_background": "light"
     },
     "output_type": "display_data"
    }
   ],
   "source": [
    "df.hour.value_counts().sort_index().plot.bar(title='Which hours are the most active?')"
   ]
  },
  {
   "cell_type": "markdown",
   "id": "55714da8-51b8-4d91-a2f3-24db571b0ccb",
   "metadata": {},
   "source": [
    "The afternoon seems to be the most common time, followed by the evening"
   ]
  },
  {
   "cell_type": "code",
   "execution_count": 6,
   "id": "a7ace765-25e3-40cf-ba0b-cc2915ca4dbe",
   "metadata": {},
   "outputs": [
    {
     "data": {
      "text/plain": [
       "hour  request_params           \n",
       "14    page=999                     0.000483\n",
       "      page=99999999999999999998    0.000725\n",
       "      page=79/                     0.000725\n",
       "      page=666                     0.000967\n",
       "      page=1                       0.001208\n",
       "                                     ...   \n",
       "23    page=3                       0.274611\n",
       "      page=2                       0.326425\n",
       "19    page=2                       0.500000\n",
       "      page=3                       0.500000\n",
       "1     page=1                       1.000000\n",
       "Name: request_params, Length: 1619, dtype: float64"
      ]
     },
     "execution_count": 6,
     "metadata": {},
     "output_type": "execute_result"
    }
   ],
   "source": [
    "df.groupby('hour').request_params.value_counts(normalize=True).sort_values()"
   ]
  },
  {
   "cell_type": "markdown",
   "id": "cbb5ea6b-27f1-4f2e-b3b3-b4aaa981d80c",
   "metadata": {},
   "source": [
    "* Whoever is working very early in the morning only requested page 1\n",
    "* At 7:00 people either request page 2 or 3"
   ]
  },
  {
   "cell_type": "code",
   "execution_count": 7,
   "id": "57b884f6-9fdd-47ab-a988-738ac8b0b028",
   "metadata": {},
   "outputs": [
    {
     "data": {
      "text/plain": [
       "request_params             hour\n",
       "page=2                     7       0.000447\n",
       "                           19      0.000895\n",
       "page=3                     7       0.001357\n",
       "                           19      0.002714\n",
       "page=4                     23      0.007576\n",
       "                                     ...   \n",
       "page=0                     14      1.000000\n",
       "page=666                   14      1.000000\n",
       "page=999                   14      1.000000\n",
       "page=79/                   14      1.000000\n",
       "page=99999999999999999998  14      1.000000\n",
       "Name: hour, Length: 1619, dtype: float64"
      ]
     },
     "execution_count": 7,
     "metadata": {},
     "output_type": "execute_result"
    }
   ],
   "source": [
    "df.groupby('request_params').hour.value_counts(normalize=True).sort_values()"
   ]
  },
  {
   "cell_type": "markdown",
   "id": "d9342017-3d0a-4f10-b377-f59e46dc6464",
   "metadata": {},
   "source": [
    "The requests to pages that don't exist only happened at 2:00."
   ]
  },
  {
   "cell_type": "code",
   "execution_count": 8,
   "id": "30dcd79c-9ba5-4c35-86f3-ffc84a5b2e03",
   "metadata": {},
   "outputs": [
    {
     "data": {
      "text/plain": [
       "weekday    request_params\n",
       "Friday     page=79/          1.000000\n",
       "Thursday   page=79/          1.000000\n",
       "Tuesday    page=2            0.103214\n",
       "           page=3            0.033179\n",
       "           page=1            0.020077\n",
       "                               ...   \n",
       "Wednesday  page=95           0.002433\n",
       "           page=96           0.002433\n",
       "           page=97           0.002433\n",
       "           page=98           0.002433\n",
       "           page=99           0.002433\n",
       "Name: request_params, Length: 373, dtype: float64"
      ]
     },
     "execution_count": 8,
     "metadata": {},
     "output_type": "execute_result"
    }
   ],
   "source": [
    "df.groupby('weekday').request_params.value_counts(normalize=True)"
   ]
  },
  {
   "cell_type": "markdown",
   "id": "088c78ae-4c4d-4ea1-a38b-10397c99fc2a",
   "metadata": {},
   "source": [
    "There's a couple requests for page 79 on thursday and friday."
   ]
  }
 ],
 "metadata": {
  "kernelspec": {
   "display_name": "Python 3",
   "language": "python",
   "name": "python3"
  },
  "language_info": {
   "codemirror_mode": {
    "name": "ipython",
    "version": 3
   },
   "file_extension": ".py",
   "mimetype": "text/x-python",
   "name": "python",
   "nbconvert_exporter": "python",
   "pygments_lexer": "ipython3",
   "version": "3.8.8"
  }
 },
 "nbformat": 4,
 "nbformat_minor": 5
}
