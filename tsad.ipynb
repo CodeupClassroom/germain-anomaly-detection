{
 "cells": [
  {
   "cell_type": "code",
   "execution_count": null,
   "metadata": {},
   "outputs": [],
   "source": [
    "import matplotlib.pyplot as plt\n",
    "import numpy as np\n",
    "import pandas as pd\n",
    "plt.ion()"
   ]
  },
  {
   "cell_type": "markdown",
   "metadata": {},
   "source": [
    "## EWMA"
   ]
  },
  {
   "cell_type": "code",
   "execution_count": null,
   "metadata": {},
   "outputs": [],
   "source": [
    "pd.options.display.float_format = '{:.5f}'.format\n",
    "df = pd.DataFrame()\n",
    "df['t'] = np.arange(10)\n",
    "for alpha in np.linspace(0, 1, 10):\n",
    "    alpha = round(alpha, 2)\n",
    "    df[f'alpha={alpha}'] = list(reversed([(1 - alpha)**i for i in range(10)]))\n",
    "df    "
   ]
  },
  {
   "cell_type": "code",
   "execution_count": null,
   "metadata": {},
   "outputs": [],
   "source": [
    "df = pd.DataFrame()\n",
    "df['x'] = np.arange(10)\n",
    "df['ewm(alpha=1)'] = df.x.ewm(alpha=1).mean()\n",
    "df['ewm(alpha=0)'] = df.x.ewm(alpha=.0000001).mean()\n",
    "df['ewm(alpha=.8)'] = df.x.ewm(alpha=.8).mean()\n",
    "df['ewm(alpha=.5)'] = df.x.ewm(alpha=.5).mean()\n",
    "df['ewm(alpha=.1)'] = df.x.ewm(alpha=.1).mean()\n",
    "df"
   ]
  },
  {
   "cell_type": "markdown",
   "metadata": {},
   "source": [
    "## Bollinger Bands"
   ]
  },
  {
   "cell_type": "code",
   "execution_count": null,
   "metadata": {},
   "outputs": [],
   "source": [
    "# Data + Prep from TS: explore lesson\n",
    "plt.rc('figure', figsize=(13, 6))\n",
    "plt.rc('axes.spines', top=False, right=False)\n",
    "plt.rc('font', size=13)\n",
    "\n",
    "# T(°F) = T(K) × 9/5 - 459.67\n",
    "def to_fahrenheit(k):\n",
    "    return k * 9/5 - 459.67\n",
    "\n",
    "url = \"https://gist.githubusercontent.com/ryanorsinger/0ec766c66f4089bdcbc1d4fb294a3394/raw/197c1f0d7b55a45f29437811bc73d9c4ef8af647/sa_temps.csv\"\n",
    "s = pd.read_csv(url, index_col='datetime', parse_dates=True).temp\n",
    "s = s.dropna()\n",
    "s = to_fahrenheit(s)\n",
    "s = s.resample('D').mean()"
   ]
  },
  {
   "cell_type": "code",
   "execution_count": null,
   "metadata": {},
   "outputs": [],
   "source": [
    "K = 2\n",
    "N = 20\n",
    "std = s.rolling(N).std()\n",
    "bands = pd.DataFrame()\n",
    "bands['mid'] = s.rolling(N).mean()\n",
    "bands['upper'] = bands['mid'] + K * std\n",
    "bands['lower'] = bands['mid'] - K * std\n",
    "bands['actual'] = s\n",
    "t = bands.loc['2013']\n",
    "t[['upper', 'lower']].plot(color='black', alpha=.6, ls=':', figsize=(16, 9))\n",
    "t.mid.plot(color='black', alpha=.6, ls='--')\n",
    "t.actual.plot()\n",
    "plt.legend('')\n",
    "plt.xlabel('')"
   ]
  },
  {
   "cell_type": "code",
   "execution_count": null,
   "metadata": {},
   "outputs": [],
   "source": [
    "bands['%b'] = (bands.actual - bands.lower) / (bands.upper - bands.lower)"
   ]
  },
  {
   "cell_type": "code",
   "execution_count": null,
   "metadata": {},
   "outputs": [],
   "source": [
    "bands[bands['%b'] > 1]"
   ]
  },
  {
   "cell_type": "code",
   "execution_count": null,
   "metadata": {},
   "outputs": [],
   "source": [
    "bands[bands['%b'] < 0]"
   ]
  }
 ],
 "metadata": {
  "kernelspec": {
   "display_name": "Python 3",
   "language": "python",
   "name": "python3"
  },
  "language_info": {
   "codemirror_mode": {
    "name": "ipython",
    "version": 3
   },
   "file_extension": ".py",
   "mimetype": "text/x-python",
   "name": "python",
   "nbconvert_exporter": "python",
   "pygments_lexer": "ipython3",
   "version": "3.8.8"
  }
 },
 "nbformat": 4,
 "nbformat_minor": 4
}
